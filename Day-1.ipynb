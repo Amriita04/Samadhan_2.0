{
 "cells": [
  {
   "cell_type": "code",
   "execution_count": 2,
   "id": "e91ddf0e-107e-4729-95ac-7395c934d636",
   "metadata": {},
   "outputs": [
    {
     "name": "stdout",
     "output_type": "stream",
     "text": [
      "Student Details:\n",
      "Name       : Ayush\n",
      "Age        : 21\n",
      "Grade      : A+\n",
      "Student ID : S12345\n"
      "Contact    : 9982756762\n"
      "Father's Name : Piyush Kumar\n"
     ]
    }
   ],
   "source": [
    "# Create a student object using a dictionary\n",
    "student = {\n",
    "    \"name\": \"Ayush\",\n",
    "    \"age\": 21,\n",
    "    \"grade\": \"A+\",\n",
    "    \"student_id\": \"S12345\"\n",
    "}\n",
    "\n",
    "# Print student details\n",
    "print(\"Student Details:\")\n",
    "print(\"Name       :\", student[\"name\"])\n",
    "print(\"Age        :\", student[\"age\"])\n",
    "print(\"Grade      :\", student[\"grade\"])\n",
    "print(\"Student ID :\", student[\"student_id\"])\n",
    "\n"
   ]
  },
  {
   "cell_type": "code",
   "execution_count": null,
   "id": "17f756e8-1349-48fd-af3a-497026765df7",
   "metadata": {},
   "outputs": [],
   "source": []
  }
 ],
 "metadata": {
  "kernelspec": {
   "display_name": "Python 3 (ipykernel)",
   "language": "python",
   "name": "python3"
  },
  "language_info": {
   "codemirror_mode": {
    "name": "ipython",
    "version": 3
   },
   "file_extension": ".py",
   "mimetype": "text/x-python",
   "name": "python",
   "nbconvert_exporter": "python",
   "pygments_lexer": "ipython3",
   "version": "3.12.7"
  }
 },
 "nbformat": 4,
 "nbformat_minor": 5
}
