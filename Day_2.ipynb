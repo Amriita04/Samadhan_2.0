{
 "cells": [
  {
   "cell_type": "code",
   "execution_count": 2,
   "id": "f1e5ace3-81ed-4153-a88d-50c685918469",
   "metadata": {},
   "outputs": [
    {
     "name": "stdout",
     "output_type": "stream",
     "text": [
      "Marks: [78, 85, 92, 69, 88, 95, 72]\n",
      "Highest Marks: 95\n"
     ]
    }
   ],
   "source": [
    "def find_highest(marks):\n",
    "    highest = marks[0]     \n",
    "    for mark in marks:\n",
    "        if mark > highest:\n",
    "            highest = mark\n",
    "    return highest\n",
    "\n",
    "# Example usage\n",
    "marks = [78, 85, 92, 69, 88, 95, 72]\n",
    "print(\"Marks:\", marks)\n",
    "print(\"Highest Marks:\", find_highest(marks))\n"
   ]
  }
 ],
 "metadata": {
  "kernelspec": {
   "display_name": "Python 3 (ipykernel)",
   "language": "python",
   "name": "python3"
  },
  "language_info": {
   "codemirror_mode": {
    "name": "ipython",
    "version": 3
   },
   "file_extension": ".py",
   "mimetype": "text/x-python",
   "name": "python",
   "nbconvert_exporter": "python",
   "pygments_lexer": "ipython3",
   "version": "3.12.7"
  }
 },
 "nbformat": 4,
 "nbformat_minor": 5
}
